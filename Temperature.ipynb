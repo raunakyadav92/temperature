{
  "nbformat": 4,
  "nbformat_minor": 0,
  "metadata": {
    "colab": {
      "provenance": [],
      "authorship_tag": "ABX9TyNoVUYv19hLEdOccELjsXaX",
      "include_colab_link": true
    },
    "kernelspec": {
      "name": "python3",
      "display_name": "Python 3"
    },
    "language_info": {
      "name": "python"
    }
  },
  "cells": [
    {
      "cell_type": "markdown",
      "metadata": {
        "id": "view-in-github",
        "colab_type": "text"
      },
      "source": [
        "<a href=\"https://colab.research.google.com/github/raunakyadav92/temperature/blob/main/Temperature.ipynb\" target=\"_parent\"><img src=\"https://colab.research.google.com/assets/colab-badge.svg\" alt=\"Open In Colab\"/></a>"
      ]
    },
    {
      "cell_type": "code",
      "execution_count": null,
      "metadata": {
        "id": "2RJu0jGMKfsm"
      },
      "outputs": [],
      "source": [
        "import serial\n",
        "import time\n",
        "\n",
        "# Connect to Arduino (Check COM port in Arduino IDE)\n",
        "arduino = serial.Serial('COM3', 9600)\n",
        "time.sleep(2)  # Wait for connection to establish\n",
        "\n",
        "print(\"Reading Temperature Data from Arduino...\\n\")\n",
        "\n",
        "try:\n",
        "    while True:\n",
        "        if arduino.in_waiting > 0:\n",
        "            data = arduino.readline().decode('utf-8').rstrip()\n",
        "            print(f\"Temperature: {data} °C\")\n",
        "except KeyboardInterrupt:\n",
        "    print(\"\\nStopped by User\")\n",
        "finally:\n",
        "    arduino.close()\n"
      ]
    }
  ]
}